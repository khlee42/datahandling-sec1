{
 "cells": [
  {
   "cell_type": "markdown",
   "metadata": {},
   "source": [
    "---\n",
    "title: INE1 - Fundamentals of programming\n",
    "description: This is a sample exercise\n",
    "subject: In-Class Exercise\n",
    "# subtitle: subtitle\n",
    "---"
   ]
  },
  {
   "cell_type": "markdown",
   "metadata": {},
   "source": [
    "[![](images/launch-colab-blue-googlecolab.svg)][colab link]\n",
    "\n",
    ":::{important} Important Dates\n",
    "* **Assigned date:** 2021-09-10\n",
    "* **Due date:** 2021-09-17 23:59:59\n",
    "* **Late penalty:** -10% per day\n",
    ":::\n",
    "\n",
    "[colab link]: https://colab.research.google.com/drive/1qZgnoA-8azwxO_aMs77WbKQgh3UCR3iY?usp=sharing"
   ]
  },
  {
   "cell_type": "markdown",
   "metadata": {},
   "source": [
    "## Variables\n",
    "\n",
    "### Question 1\n",
    "\n",
    "Create a variable `name` and assign your full name to it. Then, print the variable."
   ]
  },
  {
   "cell_type": "code",
   "execution_count": 4,
   "metadata": {},
   "outputs": [
    {
     "name": "stdout",
     "output_type": "stream",
     "text": [
      "Ellipsis\n"
     ]
    }
   ],
   "source": [
    "# Enter your code here.\n",
    "\n",
    "name = ...\n",
    "print(...)"
   ]
  },
  {
   "cell_type": "markdown",
   "metadata": {},
   "source": [
    "### Question 2\n",
    "\n",
    "Modify the variable `name` to make sure the first character of the first and last name is capitalized. Then, print the variable."
   ]
  },
  {
   "cell_type": "code",
   "execution_count": 5,
   "metadata": {},
   "outputs": [
    {
     "name": "stdout",
     "output_type": "stream",
     "text": [
      "Ellipsis\n"
     ]
    }
   ],
   "source": [
    "# Enter your code here.\n",
    "\n",
    "name = ...\n",
    "print(...)"
   ]
  },
  {
   "cell_type": "code",
   "execution_count": null,
   "metadata": {},
   "outputs": [],
   "source": [
    "# Enter your code here.\n",
    "\n"
   ]
  }
 ],
 "metadata": {
  "kernelspec": {
   "display_name": "Python 3",
   "language": "python",
   "name": "python3"
  },
  "language_info": {
   "codemirror_mode": {
    "name": "ipython",
    "version": 3
   },
   "file_extension": ".py",
   "mimetype": "text/x-python",
   "name": "python",
   "nbconvert_exporter": "python",
   "pygments_lexer": "ipython3",
   "version": "3.11.1"
  },
  "orig_nbformat": 4
 },
 "nbformat": 4,
 "nbformat_minor": 2
}
