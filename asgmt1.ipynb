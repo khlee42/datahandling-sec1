{
 "cells": [
  {
   "cell_type": "markdown",
   "metadata": {},
   "source": [
    "---\n",
    "title: A1 - Working with API\n",
    "description: This is a sample assignment\n",
    "subject: Assignment\n",
    "# subtitle: subtitle\n",
    "---"
   ]
  },
  {
   "cell_type": "markdown",
   "metadata": {},
   "source": [
    "[![](images/launch-colab-blue-googlecolab.svg)][colab link]\n",
    "\n",
    ":::{important} Important Dates\n",
    "* **Assigned date:** 2021-09-10\n",
    "* **Due date:** 2021-09-17 23:59:59\n",
    "* **Late penalty:** -10% per day\n",
    ":::\n",
    "\n",
    "[colab link]: https://colab.research.google.com/drive/1qZgnoA-8azwxO_aMs77WbKQgh3UCR3iY?usp=sharing"
   ]
  },
  {
   "cell_type": "markdown",
   "metadata": {},
   "source": [
    "\n",
    "In this assignment, ..."
   ]
  },
  {
   "cell_type": "code",
   "execution_count": 1,
   "metadata": {},
   "outputs": [
    {
     "name": "stdout",
     "output_type": "stream",
     "text": [
      "hello world\n"
     ]
    }
   ],
   "source": [
    "message = \"hello world\"\n",
    "print(message)\n"
   ]
  },
  {
   "cell_type": "code",
   "execution_count": null,
   "metadata": {},
   "outputs": [],
   "source": []
  }
 ],
 "metadata": {
  "kernelspec": {
   "display_name": "Python 3",
   "language": "python",
   "name": "python3"
  },
  "language_info": {
   "codemirror_mode": {
    "name": "ipython",
    "version": 3
   },
   "file_extension": ".py",
   "mimetype": "text/x-python",
   "name": "python",
   "nbconvert_exporter": "python",
   "pygments_lexer": "ipython3",
   "version": "3.11.1"
  },
  "orig_nbformat": 4
 },
 "nbformat": 4,
 "nbformat_minor": 2
}
